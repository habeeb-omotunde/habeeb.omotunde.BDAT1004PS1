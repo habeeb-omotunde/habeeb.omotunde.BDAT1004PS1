{
 "cells": [
  {
   "cell_type": "markdown",
   "id": "5a634b51",
   "metadata": {
    "slideshow": {
     "slide_type": "slide"
    }
   },
   "source": [
    "# Question 6 Python\n",
    "You can turn a word into pig-Latin using the following two rules (simplified):\n",
    "<p></p>\n",
    "\n",
    "<li>If the word starts with a consonant, move that letter to the end and append 'ay'. For example, 'happy' becomes 'appyhay' and 'pencil' becomes 'encilpay'.</li> \n",
    "<li>If the word starts with a vowel, simply append 'way' to the end of the word. For example, 'enter' becomes 'enterway' and 'other' becomes 'otherway' . For our purposes, there are 5 vowels: a, e, i, o, u (so we count y as a consonant).</li>\n",
    "\n",
    "<p>\n",
    "Write a function pig() that takes a word (i.e., a string) as input and returns its pig-Latin form. Your function should still work if the input word contains upper case characters. Your output should always be lower case however.\n",
    "</p>\n",
    "\n",
    "\n"
   ]
  },
  {
   "cell_type": "code",
   "execution_count": 2,
   "id": "55b2c127",
   "metadata": {
    "slideshow": {
     "slide_type": "fragment"
    }
   },
   "outputs": [
    {
     "name": "stdout",
     "output_type": "stream",
     "text": [
      "Enter a new text: Enter\n",
      ">>> pig('Enter')\n",
      "'enterway'\n"
     ]
    }
   ],
   "source": [
    "def pig(words):\n",
    "    vowels = ['a', 'e', 'i', 'o', 'u']\n",
    "    result = ''\n",
    "    buff = ''\n",
    "    if (words[0:1].lower() in vowels):\n",
    "        result = words + 'way'\n",
    "    else:\n",
    "        buff = words[0:1].lower()\n",
    "        result = words[1:] + buff + 'ay'\n",
    "\n",
    "    return result.lower()\n",
    "text = input('Enter a new text: ')\n",
    "newText = pig(text)\n",
    "text = \"\\'\"+ text + \"\\'\"\n",
    "print('>>> pig(' + text + ')')\n",
    "\n",
    "print(\"\\'\"+ newText + \"\\'\")"
   ]
  },
  {
   "cell_type": "markdown",
   "id": "4403f2b9",
   "metadata": {
    "slideshow": {
     "slide_type": "slide"
    }
   },
   "source": [
    "# Question 7 Python\n",
    "File bloodtype1.txt records blood-types of patients (A, B, AB, O or OO) at a clinic. Write a function bldcount() that reads the file with name name and reports (i.e., prints) how many patients there are in each bloodtype."
   ]
  },
  {
   "cell_type": "code",
   "execution_count": 4,
   "id": "9767a12e",
   "metadata": {
    "slideshow": {
     "slide_type": "fragment"
    }
   },
   "outputs": [
    {
     "name": "stdout",
     "output_type": "stream",
     "text": [
      ">>> bloodcount('bloodtype1.txt')\n",
      "There are 15 patients of bloodtype A\n",
      "There is one patient of bloodtype B\n",
      "There are 13 patients of bloodtype AB\n",
      "There are 15 patients of bloodtype O\n",
      "There are  no patients of bloodtype OO\n"
     ]
    },
    {
     "data": {
      "text/plain": [
       "{'A': 15, 'B': 1, 'AB': 13, 'O': 15, 'OO': 0}"
      ]
     },
     "execution_count": 4,
     "metadata": {},
     "output_type": "execute_result"
    }
   ],
   "source": [
    "def bloodcount(filename):\n",
    "    newfile = open(filename)\n",
    "    fileContent = newfile.read();\n",
    "    newfile.close();\n",
    "    btList = fileContent.split()\n",
    "    bloodType = ['A', 'B', 'AB', 'O', 'OO'] \n",
    "    \n",
    "    content = {} # content dictionary holds the frequency of occurence of each blood type\n",
    "    \n",
    "    #initalize dictionary with list bloodtype settting count to zero (0)\n",
    "    for b in bloodType:\n",
    "        content[b] = 0;\n",
    "    \n",
    "    #count each blood type in the blood type file\n",
    "    for bt in btList:\n",
    "        if bt in content: # increment item counter\n",
    "            content[bt] += 1\n",
    "        else: # create item counter\n",
    "            content[bt] = 1\n",
    "\n",
    "    for bts in bloodType:\n",
    "        if content[bts] > 0:\n",
    "            if content[bts] == 1:\n",
    "                print('There is one patient of bloodtype ' + bts)\n",
    "            else:\n",
    "                print('There are '+ str(content[bts])+ ' patients of bloodtype ' + bts)\n",
    "        else:\n",
    "            print('There are  no patients of bloodtype ' + bts)\n",
    "    return content\n",
    "\n",
    "output = \"\\'\" + 'bloodtype1.txt' + \"\\'\"\n",
    "print('>>> bloodcount('+ output + ')')\n",
    "bloodcount('bloodtype1.txt')"
   ]
  },
  {
   "cell_type": "markdown",
   "id": "66540fb3",
   "metadata": {},
   "source": [
    "# Question 8 Python\n",
    "<p>Write a function curconv() that takes as input:</p>\n",
    "   <ol>\n",
    "    <li>a currency represented using a string (e.g., 'JPY' for the Japanese Yen or 'EUR' for the Euro)</li>\n",
    "    <li>an amount</li>\n",
    "   </ol>\n",
    "<p>and then converts and returns the amount in US dollars.</p>"
   ]
  },
  {
   "cell_type": "code",
   "execution_count": 5,
   "id": "14d58a27",
   "metadata": {
    "slideshow": {
     "slide_type": "fragment"
    }
   },
   "outputs": [
    {
     "name": "stdout",
     "output_type": "stream",
     "text": [
      ">>> bloodcount('JPY',100)\n",
      "1.241401\n"
     ]
    }
   ],
   "source": [
    "def curconv(currSym, amount):\n",
    "    gate = True\n",
    "    currSym.upper()\n",
    "    infile = open('currencies.txt', 'r')\n",
    "    #fetch exchage rate for the selected currency\n",
    "    while(gate):\n",
    "        lineList = infile.readline()\n",
    "        currency = lineList.split(sep='\\t')\n",
    "        if (currSym.upper() in lineList):\n",
    "            #print('Exchage rate for ' + currSym + ' ==> USD = ' + currency[1])\n",
    "            gate = False\n",
    "            rate = currency[1]\n",
    "            result = float(rate) * amount\n",
    "    return result\n",
    "\n",
    "fiat = 'JPY'\n",
    "amt = 100\n",
    "output = \"\\'\" + fiat + \"\\'\" + ','+ str(amt)\n",
    "print('>>> bloodcount('+ output + ')')\n",
    "print(curconv(fiat, amt))"
   ]
  },
  {
   "cell_type": "markdown",
   "id": "b5317f5e",
   "metadata": {
    "slideshow": {
     "slide_type": "slide"
    }
   },
   "source": [
    "# Question 9 Python\n",
    "<p>Each of the following will cause an exception (an error). Identify what type of exception each will cause</p>"
   ]
  },
  {
   "cell_type": "markdown",
   "id": "0a69a5b1",
   "metadata": {
    "slideshow": {
     "slide_type": "slide"
    }
   },
   "source": [
    "|Expression | Exception type        | \n",
    "| :-------- |-----------------:| \n",
    "|Trying to add incompatible variables, as in adding 6 + ‘a’| TypeError|\n",
    "|Referring to the 12th item of a list that has only 10 items|IndexError |\n",
    "|Using a value that is out of range for a function’s input, such as calling math.sqrt(-1.0)|ValueError |\n",
    "|Using an undeclared variable, such as print(x) when x has not been defined|NameError |\n",
    "|Trying to open a file that does not exist, such as mistyping the file name or looking in the wrong directory.|IOError |"
   ]
  },
  {
   "cell_type": "markdown",
   "id": "c499a5f0",
   "metadata": {},
   "source": [
    "# Question 10 Python\n",
    "<p>\n",
    "Encryption is the process of hiding the meaning of a text by substituting letters in the message with other letters, according to some system. If the process is successful, no one but the intended recipient can understand the encrypted message. \n",
    "</p>\n",
    "\n",
    "<p>\n",
    "Cryptanalysis refers to attempts to undo the encryption, even if some details of the encryption are unknown (for example, if an encrypted message has been intercepted). The first step of cryptanalysis is often to build up a table of letter frequencies in the encrypted text.\n",
    "</p>\n",
    "\n",
    "<p>\n",
    "Assume that the string letters is already defined as <b>'abcdefghijklmnopqrstuvwxyz'</b>. \n",
    "\n",
    "Write a function called frequencies() that takes a string as its only parameter, and returns a list of integers, showing the number of times each character appears in the text. Your function may ignore any characters that are not in letters.\n",
    "</p>"
   ]
  },
  {
   "cell_type": "code",
   "execution_count": 6,
   "id": "56e3abbd",
   "metadata": {
    "slideshow": {
     "slide_type": "fragment"
    }
   },
   "outputs": [
    {
     "name": "stdout",
     "output_type": "stream",
     "text": [
      ">>> frequency('The quick red fox got bored and went home')\n",
      "dict_values([1, 1, 1, 3, 5, 1, 1, 2, 1, 0, 1, 0, 1, 2, 4, 0, 1, 2, 0, 3, 1, 0, 1, 1, 0, 0])\n"
     ]
    }
   ],
   "source": [
    "def frequency(words):\n",
    "    words = words.lower()\n",
    "    alphaList = ['a','b','c','d','e','f','g','h','i','j','k','l','m',\n",
    "                 'n','o','p','q','r','s','t','u','v','w','x','y','z'\n",
    "                ]\n",
    "    # content dictionary holds the frequency\n",
    "    # of occurence of alphabet\n",
    "    alphacounter = {} \n",
    "    \n",
    "    # initalize dictionary with list of alhabets setting \n",
    "    # the count number of every alphabet to zero (0)\n",
    "    for xters in alphaList:\n",
    "        alphacounter[xters] = 0;\n",
    "        \n",
    "    #count each alphabet in the words\n",
    "    for bt in words:\n",
    "        if bt == ' ': # ignore sppecial characters\n",
    "            continue\n",
    "        elif bt in alphacounter: # increment item counter\n",
    "            alphacounter[bt] += 1\n",
    "        else: # create item counter\n",
    "            alphacounter[bt] = 1\n",
    "\n",
    "    print (alphacounter.values())\n",
    "\n",
    "payload = 'The quick red fox got bored and went home'\n",
    "output = \"\\'\" + payload + \"\\'\"\n",
    "print('>>> frequency('+ output + ')')\n",
    "frequency(payload)"
   ]
  },
  {
   "cell_type": "code",
   "execution_count": null,
   "id": "15bb0be5",
   "metadata": {},
   "outputs": [],
   "source": []
  }
 ],
 "metadata": {
  "celltoolbar": "Slideshow",
  "kernelspec": {
   "display_name": "Python 3 (ipykernel)",
   "language": "python",
   "name": "python3"
  },
  "language_info": {
   "codemirror_mode": {
    "name": "ipython",
    "version": 3
   },
   "file_extension": ".py",
   "mimetype": "text/x-python",
   "name": "python",
   "nbconvert_exporter": "python",
   "pygments_lexer": "ipython3",
   "version": "3.11.4"
  }
 },
 "nbformat": 4,
 "nbformat_minor": 5
}
