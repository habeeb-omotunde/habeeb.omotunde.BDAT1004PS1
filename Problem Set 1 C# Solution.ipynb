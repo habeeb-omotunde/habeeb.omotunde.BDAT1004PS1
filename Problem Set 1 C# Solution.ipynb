{
 "cells": [
  {
   "cell_type": "markdown",
   "id": "83b90cd9",
   "metadata": {
    "slideshow": {
     "slide_type": "slide"
    }
   },
   "source": [
    "# Question 1 C#\n",
    "What data type is each of the following?"
   ]
  },
  {
   "cell_type": "markdown",
   "id": "26ac38ff",
   "metadata": {
    "slideshow": {
     "slide_type": "slide"
    }
   },
   "source": [
    "|Expression | Data type        |                \n",
    "| :-------- |-----------------:|          \n",
    "| 5         | int                | \n",
    "| 5.0       | float               |  \n",
    "| 5 > 1     | boolean   |  \n",
    "| '5'       | char         |  \n",
    "| 5 * 2     | int             |   \n",
    "| '5' * 2   | int           |  \n",
    "| '5' + '2' | int            |  \n",
    "| 5 / 2     | int           |  \n",
    "| 5 % 2     | int           |   \n",
    "| {5, 2, 1} | Array (Reference type)           |  \n",
    "| 5 == 3    | boolean         |  \n",
    "| Pi(the number)| double      | "
   ]
  },
  {
   "cell_type": "markdown",
   "id": "31a060e1",
   "metadata": {
    "slideshow": {
     "slide_type": "slide"
    }
   },
   "source": [
    "# Question 2 C#\n",
    "Write (and evaluate) C# expressions that answer these questions:"
   ]
  },
  {
   "cell_type": "markdown",
   "id": "1b163069",
   "metadata": {
    "slideshow": {
     "slide_type": "slide"
    }
   },
   "source": [
    "a. How many letters are there in 'Supercalifragilisticexpialidocious'?"
   ]
  },
  {
   "cell_type": "code",
   "execution_count": 2,
   "id": "6436d271",
   "metadata": {
    "slideshow": {
     "slide_type": "fragment"
    }
   },
   "outputs": [
    {
     "name": "stdout",
     "output_type": "stream",
     "text": [
      "There are 34 letters in Supercalifragilisticexpialidocious\r\n"
     ]
    }
   ],
   "source": [
    "string longWord = \"Supercalifragilisticexpialidocious\";\n",
    "Console.WriteLine(\"There are {0} letters in {1}\", longWord.Length, longWord);"
   ]
  },
  {
   "cell_type": "markdown",
   "id": "9dcab4ed",
   "metadata": {
    "slideshow": {
     "slide_type": "slide"
    }
   },
   "source": [
    "b. Does 'Supercalifragilisticexpialidocious' contain 'ice' as a substring?"
   ]
  },
  {
   "cell_type": "code",
   "execution_count": 3,
   "id": "2d715f3c",
   "metadata": {
    "slideshow": {
     "slide_type": "fragment"
    }
   },
   "outputs": [
    {
     "name": "stdout",
     "output_type": "stream",
     "text": [
      "Yes it Does\r\n"
     ]
    }
   ],
   "source": [
    "string longWord = \"Supercalifragilisticexpialidocious\";\n",
    "\n",
    "if (longWord.Contains(\"ice\"))\n",
    "{\n",
    "    Console.WriteLine(\"Yes it Does\");\n",
    "}\n",
    "else\n",
    "    Console.WriteLine(\"No it does not\");"
   ]
  },
  {
   "cell_type": "markdown",
   "id": "2f1508d4",
   "metadata": {
    "slideshow": {
     "slide_type": "slide"
    }
   },
   "source": [
    "c. Which of the following words is the longest:\n",
    "Supercalifragilisticexpialidocious, Honorificabilitudinitatibus, or Bababadalgharaghtakamminarronnkonn?"
   ]
  },
  {
   "cell_type": "code",
   "execution_count": 4,
   "id": "88aca48e",
   "metadata": {
    "slideshow": {
     "slide_type": "fragment"
    }
   },
   "outputs": [
    {
     "name": "stdout",
     "output_type": "stream",
     "text": [
      "longest word is: Supercalifragilisticexpialidocious\r\n"
     ]
    }
   ],
   "source": [
    "string myBuffer = \"\";\n",
    "\n",
    "string[] longWords = { \"Supercalifragilisticexpialidocious\", \n",
    "                       \"Honorificabilitudinitatibus\", \"Bababadalgharaghtakamminarronnkonn\"};\n",
    "// Solution only considers one outcome in the event two words have equal length. \n",
    "// Preference is given to the first word that appears longest in the array\n",
    "\n",
    "for (int i = 0; i < longWords.Length; i++)\n",
    "{\n",
    "    if (longWords[i].Length > myBuffer.Length)\n",
    "    {\n",
    "       myBuffer = longWords[i];\n",
    "    }\n",
    "}\n",
    "Console.WriteLine(\"longest word is: {0}\", myBuffer);"
   ]
  },
  {
   "cell_type": "markdown",
   "id": "0d6a7989",
   "metadata": {
    "slideshow": {
     "slide_type": "slide"
    }
   },
   "source": [
    "d. Which composer comes first in the dictionary: 'Berlioz', 'Borodin', 'Brian','Bartok', 'Bellini', 'Buxtehude', 'Bernstein'. Which one comes last?"
   ]
  },
  {
   "cell_type": "code",
   "execution_count": 6,
   "id": "5291b051",
   "metadata": {
    "slideshow": {
     "slide_type": "fragment"
    }
   },
   "outputs": [
    {
     "name": "stdout",
     "output_type": "stream",
     "text": [
      "First Composer is Berlioz \n",
      "Last Composer is Bernstein \r\n"
     ]
    }
   ],
   "source": [
    "Dictionary<int, string> composer = new Dictionary<int, string>();\n",
    "\n",
    "string[] people = { \"Berlioz\", \"Borodin\", \"Brian\", \"Bartok\", \"Bellini\", \"Buxtehude\", \"Bernstein\" };\n",
    "\n",
    "// Build a dictionary collection with the people array\n",
    "// Dictionary maintains the order based on the index i.e. key\n",
    "\n",
    "for (int k = 0; k < people.Length; k++)\n",
    "{\n",
    "    composer.Add(k, people[k]);\n",
    "}\n",
    "\n",
    "// Get the first and last composers in the dictionary.\n",
    "// first composer is at key = 0 while last is at key = 6\n",
    "\n",
    "Console.WriteLine(\"First Composer is {0} \\nLast Composer is {1} \", \n",
    "        composer.ElementAt(0).Value, composer.ElementAt(6).Value);"
   ]
  },
  {
   "cell_type": "markdown",
   "id": "b5048ca8",
   "metadata": {
    "slideshow": {
     "slide_type": "slide"
    }
   },
   "source": [
    "# Question 3 C# \n",
    "Question 3 C#\n",
    "Implement function triangleArea(a,b,c) that takes as input the lengths of the 3\n",
    "sides of a triangle and returns the area of the triangle. By Heron's formula, the area\n",
    "of a triangle with side lengths a, b, and c is\n",
    "$$\n",
    "\\sqrt{ s(s - a)(s -b)(s -c)}\n",
    "$$, where\n",
    "s = (a + b + c) /2.\n",
    "\n",
    "**Note: Solution V1 accepts 3 inputs from standard input but the modified version V2 calculates area with hardcoded lengths(2,2,2).  Code to Solution V1 will be provided as attachment in Blackboard."
   ]
  },
  {
   "cell_type": "code",
   "execution_count": null,
   "id": "346699a6",
   "metadata": {
    "slideshow": {
     "slide_type": "fragment"
    }
   },
   "outputs": [],
   "source": [
    "// Version 1\n",
    "static double triangleArea(double a, double b, double c)\n",
    "{\n",
    "    double val = 0;\n",
    "    double s = 0;\n",
    "    s = (a + b + c)/ 2;\n",
    "    val = Math.Sqrt((s *(s- a) * (s - b) * (s - c)));\n",
    "    return val;\n",
    "}\n",
    "double i, j, k;\n",
    "double[] buff = new double[3];\n",
    "Console.WriteLine(\"Input the Lenghts of the 3 sides of a triangle\");\n",
    "\n",
    "for(int m = 0; m < 3; m++)\n",
    "{\n",
    "    Console.Write(\"Length of Side {0}: \", m+1);\n",
    "    buff[m] = double.Parse(Console.ReadLine());\n",
    "}\n",
    "i = buff[0];\n",
    "j = buff[1];\n",
    "k = buff[2];\n",
    "double area = triangleArea(i,j,k);\n",
    "Console.WriteLine(\">>> triangleArea({0},{1},{2})\\n{3}\",i, j, k, area);"
   ]
  },
  {
   "cell_type": "code",
   "execution_count": 9,
   "id": "13725698",
   "metadata": {
    "slideshow": {
     "slide_type": "fragment"
    }
   },
   "outputs": [
    {
     "name": "stdout",
     "output_type": "stream",
     "text": [
      ">>> triangleArea(2,2,2)\n",
      "1.7320508075688772\r\n"
     ]
    }
   ],
   "source": [
    "// Version 2\n",
    "static double triangleArea(double a, double b, double c)\n",
    "{\n",
    "    double val = 0;\n",
    "    double s = 0;\n",
    "    s = (a + b + c)/ 2;\n",
    "    val = Math.Sqrt((s *(s- a) * (s - b) * (s - c)));\n",
    "    return val;\n",
    "}\n",
    "\n",
    "double i = 2, j = 2, k = 2;\n",
    "double area = triangleArea(i,j,k);\n",
    "\n",
    "Console.WriteLine(\">>> triangleArea({0},{1},{2})\\n{3}\",i, j, k, area);"
   ]
  },
  {
   "cell_type": "markdown",
   "id": "12bd40d9",
   "metadata": {},
   "source": [
    "# Question 4 C# \n",
    "Write a program in C# Sharp to separate odd and even integers in separate arrays. \n",
    "**Note: Solution code will be provided as attachment in Blackboard."
   ]
  },
  {
   "cell_type": "code",
   "execution_count": null,
   "id": "0cf2f877",
   "metadata": {
    "slideshow": {
     "slide_type": "slide"
    }
   },
   "outputs": [],
   "source": [
    "Console.Write(\"Test Data :\\nInput the number of elements to be stored in the array: \");\n",
    "int capacity = int.Parse(Console.ReadLine());\n",
    "int[] numArray = new int[capacity];\n",
    "\n",
    "Console.WriteLine(\"Input {0} elements in the array : \", capacity);\n",
    "for (int m = 0; m < numArray.Length; m++)\n",
    "{\n",
    "    Console.Write(\"element - {0} : \", m);\n",
    "    numArray[m] = int.Parse(Console.ReadLine());\n",
    "}\n",
    "\n",
    "\n",
    "// note that for both even and odd arrays, the  max number of elements is determined by\n",
    "// the size of the original array. Therefore, the size of both arrays is set to capacity\n",
    "\n",
    "int[] evenElements = new int[capacity];\n",
    "int evenCounter = 0;\n",
    "int[] oddElements = new int[capacity];\n",
    "int oddCounter = 0;\n",
    "foreach (int element in numArray)\n",
    "{\n",
    "    if(element % 2 == 0)\n",
    "    {\n",
    "        evenElements[evenCounter++] = element;\n",
    "    }\n",
    "    else\n",
    "    {\n",
    "        oddElements[oddCounter++] = element;\n",
    "    }\n",
    "}\n",
    "Console.WriteLine(\"Expected Output: \");\n",
    "\n",
    "// Print array contents with a common service\n",
    "\n",
    "arrayPrinter(\"Even\", evenElements);\n",
    "arrayPrinter(\"Odd\", oddElements);\n",
    "\n",
    "static void arrayPrinter(string label, int[] arr)\n",
    "{\n",
    "    Console.WriteLine(\"The {0} elements are: \", label);\n",
    "    foreach (int x in arr)\n",
    "    {\n",
    "        if (x == 0)\n",
    "        {\n",
    "            continue;\n",
    "        }\n",
    "        else\n",
    "        {\n",
    "            Console.Write(\"{0} \", x);\n",
    "        }\n",
    "    }\n",
    "    Console.WriteLine();\n",
    "}\n"
   ]
  },
  {
   "cell_type": "markdown",
   "id": "a8829708",
   "metadata": {
    "slideshow": {
     "slide_type": "slide"
    }
   },
   "source": [
    "# Question 5 C# \n",
    "a. Write a function inside(x,y,x1,y1,x2,y2) that returns True or False depending on whether the point (x,y) lies in the rectangle with lower left corner (x1,y1) and upper right corner (x2,y2)."
   ]
  },
  {
   "cell_type": "code",
   "execution_count": 11,
   "id": "00635515",
   "metadata": {
    "slideshow": {
     "slide_type": "fragment"
    }
   },
   "outputs": [
    {
     "name": "stdout",
     "output_type": "stream",
     "text": [
      ">>> Inside(1,1,0,0,2,3)\n",
      "True\n",
      ">>> Inside(-1,-1,0,0,2,3)\n",
      "False\n"
     ]
    }
   ],
   "source": [
    "static Boolean inside(double x, double y, double x1, double y1, double x2, double y2)\n",
    "{\n",
    "    Boolean xCoord = false;\n",
    "    Boolean yCoord = false;\n",
    "    Boolean result = false;\n",
    "\n",
    "    xCoord = (x >= x1) && (x <= x2);\n",
    "    yCoord = (y >= y1) && (y <= y2);\n",
    "    result = xCoord && yCoord;\n",
    "\n",
    "    Console.WriteLine(\">>> Inside({0},{1},{2},{3},{4},{5})\", x, y, x1, y1, x2, y2);\n",
    "  \n",
    "    return result;\n",
    "}\n",
    "\n",
    "\n",
    "Boolean position = false;\n",
    "position = inside(1, 1, 0, 0, 2, 3);\n",
    "Console.WriteLine(position);\n",
    "\n",
    "position = inside(-1, -1, 0, 0, 2, 3);\n",
    "Console.WriteLine(position);"
   ]
  },
  {
   "cell_type": "code",
   "execution_count": 12,
   "id": "40db426b",
   "metadata": {
    "slideshow": {
     "slide_type": "fragment"
    }
   },
   "outputs": [
    {
     "name": "stdout",
     "output_type": "stream",
     "text": [
      "\n",
      "Execise\n",
      ">>> Inside(1,1,0.3,0.5,1.1,0.7)\n",
      "False\n",
      ">>> Inside(1,1,0.5,0.2,1.1,2)\n",
      "True\n"
     ]
    }
   ],
   "source": [
    "Console.WriteLine(\"\\nExecise\");\n",
    "Console.WriteLine(inside(1, 1, 0.3, 0.5, 1.1, 0.7));\n",
    "Console.WriteLine(inside(1, 1, 0.5, 0.2, 1.1, 2));"
   ]
  },
  {
   "cell_type": "code",
   "execution_count": null,
   "id": "906863c3",
   "metadata": {},
   "outputs": [],
   "source": []
  }
 ],
 "metadata": {
  "celltoolbar": "Slideshow",
  "kernelspec": {
   "display_name": ".NET (C#)",
   "language": "C#",
   "name": ".net-csharp"
  },
  "language_info": {
   "file_extension": ".cs",
   "mimetype": "text/x-csharp",
   "name": "C#",
   "pygments_lexer": "csharp",
   "version": "11.0"
  }
 },
 "nbformat": 4,
 "nbformat_minor": 5
}
